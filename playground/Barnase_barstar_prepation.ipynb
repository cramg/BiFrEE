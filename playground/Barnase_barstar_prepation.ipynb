{
 "cells": [
  {
   "cell_type": "markdown",
   "id": "665b0465-3861-49c8-9653-582358a94709",
   "metadata": {},
   "source": [
    "# Barnase-Barstar preparation"
   ]
  },
  {
   "cell_type": "code",
   "execution_count": 1,
   "id": "be6eed95-d38e-4c1a-a598-ee770689245b",
   "metadata": {},
   "outputs": [
    {
     "data": {
      "application/vnd.jupyter.widget-view+json": {
       "model_id": "555665d0f5264ba6a2c7f29aaf34dadf",
       "version_major": 2,
       "version_minor": 0
      },
      "text/plain": []
     },
     "metadata": {},
     "output_type": "display_data"
    }
   ],
   "source": [
    "import molsysmt as msm"
   ]
  },
  {
   "cell_type": "code",
   "execution_count": 2,
   "id": "3e17ba4a-ff8e-4250-b66b-992bb49ac4cd",
   "metadata": {},
   "outputs": [
    {
     "name": "stderr",
     "output_type": "stream",
     "text": [
      "/home/diego/Myopt/miniconda3/envs/BiFrEE/lib/python3.7/site-packages/molsysmt/item/mmtf_MMTFDecoder/to_molsysmt_Topology.py:34: UserWarning: The structure in the PDB has biological assemblies. There are geometrical transformations proposed in the structure. See the following issue in the source code repository: https://github.com/uibcdf/MolSysMT/issues/33\n",
      "  warnings.warn(warning_message)\n",
      "/home/diego/Myopt/miniconda3/envs/BiFrEE/lib/python3.7/site-packages/molsysmt/item/mmtf_MMTFDecoder/to_molsysmt_Topology.py:48: UserWarning: The bioassembly has a different number of chains than the total amount of chains\n",
      "  warnings.warn(warning_message)\n"
     ]
    }
   ],
   "source": [
    "molsys = msm.convert('1BRS')"
   ]
  },
  {
   "cell_type": "code",
   "execution_count": 3,
   "id": "69640585-91a8-41ff-8d78-6001627d1a68",
   "metadata": {},
   "outputs": [
    {
     "data": {
      "text/html": [
       "<style type=\"text/css\">\n",
       "</style>\n",
       "<table id=\"T_ff8fa_\">\n",
       "  <thead>\n",
       "    <tr>\n",
       "      <th class=\"col_heading level0 col0\" >form</th>\n",
       "      <th class=\"col_heading level0 col1\" >n_atoms</th>\n",
       "      <th class=\"col_heading level0 col2\" >n_groups</th>\n",
       "      <th class=\"col_heading level0 col3\" >n_components</th>\n",
       "      <th class=\"col_heading level0 col4\" >n_chains</th>\n",
       "      <th class=\"col_heading level0 col5\" >n_molecules</th>\n",
       "      <th class=\"col_heading level0 col6\" >n_entities</th>\n",
       "      <th class=\"col_heading level0 col7\" >n_waters</th>\n",
       "      <th class=\"col_heading level0 col8\" >n_proteins</th>\n",
       "      <th class=\"col_heading level0 col9\" >n_structures</th>\n",
       "    </tr>\n",
       "  </thead>\n",
       "  <tbody>\n",
       "    <tr>\n",
       "      <td id=\"T_ff8fa_row0_col0\" class=\"data row0 col0\" >molsysmt.MolSys</td>\n",
       "      <td id=\"T_ff8fa_row0_col1\" class=\"data row0 col1\" >5153</td>\n",
       "      <td id=\"T_ff8fa_row0_col2\" class=\"data row0 col2\" >1101</td>\n",
       "      <td id=\"T_ff8fa_row0_col3\" class=\"data row0 col3\" >521</td>\n",
       "      <td id=\"T_ff8fa_row0_col4\" class=\"data row0 col4\" >12</td>\n",
       "      <td id=\"T_ff8fa_row0_col5\" class=\"data row0 col5\" >519</td>\n",
       "      <td id=\"T_ff8fa_row0_col6\" class=\"data row0 col6\" >3</td>\n",
       "      <td id=\"T_ff8fa_row0_col7\" class=\"data row0 col7\" >513</td>\n",
       "      <td id=\"T_ff8fa_row0_col8\" class=\"data row0 col8\" >6</td>\n",
       "      <td id=\"T_ff8fa_row0_col9\" class=\"data row0 col9\" >1</td>\n",
       "    </tr>\n",
       "  </tbody>\n",
       "</table>\n"
      ],
      "text/plain": [
       "<pandas.io.formats.style.Styler at 0x7f01e56a9050>"
      ]
     },
     "execution_count": 3,
     "metadata": {},
     "output_type": "execute_result"
    }
   ],
   "source": [
    "msm.info(molsys)"
   ]
  },
  {
   "cell_type": "code",
   "execution_count": 4,
   "id": "a63c8b49-6c5d-46e6-8b1a-d010b6e3d6c5",
   "metadata": {},
   "outputs": [],
   "source": [
    "molsys = msm.extract(molsys, selection='molecule_type==\"protein\"')"
   ]
  },
  {
   "cell_type": "code",
   "execution_count": 5,
   "id": "a4344636-016f-4ed7-9509-5c029d7ad6aa",
   "metadata": {},
   "outputs": [
    {
     "data": {
      "text/html": [
       "<style type=\"text/css\">\n",
       "</style>\n",
       "<table id=\"T_a1b2d_\">\n",
       "  <thead>\n",
       "    <tr>\n",
       "      <th class=\"col_heading level0 col0\" >form</th>\n",
       "      <th class=\"col_heading level0 col1\" >n_atoms</th>\n",
       "      <th class=\"col_heading level0 col2\" >n_groups</th>\n",
       "      <th class=\"col_heading level0 col3\" >n_components</th>\n",
       "      <th class=\"col_heading level0 col4\" >n_chains</th>\n",
       "      <th class=\"col_heading level0 col5\" >n_molecules</th>\n",
       "      <th class=\"col_heading level0 col6\" >n_entities</th>\n",
       "      <th class=\"col_heading level0 col7\" >n_proteins</th>\n",
       "      <th class=\"col_heading level0 col8\" >n_structures</th>\n",
       "    </tr>\n",
       "  </thead>\n",
       "  <tbody>\n",
       "    <tr>\n",
       "      <td id=\"T_a1b2d_row0_col0\" class=\"data row0 col0\" >molsysmt.MolSys</td>\n",
       "      <td id=\"T_a1b2d_row0_col1\" class=\"data row0 col1\" >4640</td>\n",
       "      <td id=\"T_a1b2d_row0_col2\" class=\"data row0 col2\" >588</td>\n",
       "      <td id=\"T_a1b2d_row0_col3\" class=\"data row0 col3\" >8</td>\n",
       "      <td id=\"T_a1b2d_row0_col4\" class=\"data row0 col4\" >6</td>\n",
       "      <td id=\"T_a1b2d_row0_col5\" class=\"data row0 col5\" >6</td>\n",
       "      <td id=\"T_a1b2d_row0_col6\" class=\"data row0 col6\" >2</td>\n",
       "      <td id=\"T_a1b2d_row0_col7\" class=\"data row0 col7\" >6</td>\n",
       "      <td id=\"T_a1b2d_row0_col8\" class=\"data row0 col8\" >1</td>\n",
       "    </tr>\n",
       "  </tbody>\n",
       "</table>\n"
      ],
      "text/plain": [
       "<pandas.io.formats.style.Styler at 0x7f01ea148fd0>"
      ]
     },
     "execution_count": 5,
     "metadata": {},
     "output_type": "execute_result"
    }
   ],
   "source": [
    "msm.info(molsys)"
   ]
  },
  {
   "cell_type": "code",
   "execution_count": 13,
   "id": "3a87d887-7fec-4cf6-bba7-fa9b3041e073",
   "metadata": {},
   "outputs": [
    {
     "data": {
      "text/html": [
       "<style type=\"text/css\">\n",
       "</style>\n",
       "<table id=\"T_4239d_\">\n",
       "  <thead>\n",
       "    <tr>\n",
       "      <th class=\"col_heading level0 col0\" >index</th>\n",
       "      <th class=\"col_heading level0 col1\" >name</th>\n",
       "      <th class=\"col_heading level0 col2\" >type</th>\n",
       "      <th class=\"col_heading level0 col3\" >n atoms</th>\n",
       "      <th class=\"col_heading level0 col4\" >n groups</th>\n",
       "      <th class=\"col_heading level0 col5\" >n components</th>\n",
       "      <th class=\"col_heading level0 col6\" >chain index</th>\n",
       "      <th class=\"col_heading level0 col7\" >entity index</th>\n",
       "      <th class=\"col_heading level0 col8\" >entity name</th>\n",
       "    </tr>\n",
       "  </thead>\n",
       "  <tbody>\n",
       "    <tr>\n",
       "      <td id=\"T_4239d_row0_col0\" class=\"data row0 col0\" >0</td>\n",
       "      <td id=\"T_4239d_row0_col1\" class=\"data row0 col1\" >Barnase</td>\n",
       "      <td id=\"T_4239d_row0_col2\" class=\"data row0 col2\" >protein</td>\n",
       "      <td id=\"T_4239d_row0_col3\" class=\"data row0 col3\" >864</td>\n",
       "      <td id=\"T_4239d_row0_col4\" class=\"data row0 col4\" >108</td>\n",
       "      <td id=\"T_4239d_row0_col5\" class=\"data row0 col5\" >1</td>\n",
       "      <td id=\"T_4239d_row0_col6\" class=\"data row0 col6\" >0</td>\n",
       "      <td id=\"T_4239d_row0_col7\" class=\"data row0 col7\" >0</td>\n",
       "      <td id=\"T_4239d_row0_col8\" class=\"data row0 col8\" >Barnase</td>\n",
       "    </tr>\n",
       "    <tr>\n",
       "      <td id=\"T_4239d_row1_col0\" class=\"data row1 col0\" >1</td>\n",
       "      <td id=\"T_4239d_row1_col1\" class=\"data row1 col1\" >Barnase</td>\n",
       "      <td id=\"T_4239d_row1_col2\" class=\"data row1 col2\" >protein</td>\n",
       "      <td id=\"T_4239d_row1_col3\" class=\"data row1 col3\" >878</td>\n",
       "      <td id=\"T_4239d_row1_col4\" class=\"data row1 col4\" >110</td>\n",
       "      <td id=\"T_4239d_row1_col5\" class=\"data row1 col5\" >1</td>\n",
       "      <td id=\"T_4239d_row1_col6\" class=\"data row1 col6\" >1</td>\n",
       "      <td id=\"T_4239d_row1_col7\" class=\"data row1 col7\" >0</td>\n",
       "      <td id=\"T_4239d_row1_col8\" class=\"data row1 col8\" >Barnase</td>\n",
       "    </tr>\n",
       "    <tr>\n",
       "      <td id=\"T_4239d_row2_col0\" class=\"data row2 col0\" >2</td>\n",
       "      <td id=\"T_4239d_row2_col1\" class=\"data row2 col1\" >Barnase</td>\n",
       "      <td id=\"T_4239d_row2_col2\" class=\"data row2 col2\" >protein</td>\n",
       "      <td id=\"T_4239d_row2_col3\" class=\"data row2 col3\" >839</td>\n",
       "      <td id=\"T_4239d_row2_col4\" class=\"data row2 col4\" >108</td>\n",
       "      <td id=\"T_4239d_row2_col5\" class=\"data row2 col5\" >1</td>\n",
       "      <td id=\"T_4239d_row2_col6\" class=\"data row2 col6\" >2</td>\n",
       "      <td id=\"T_4239d_row2_col7\" class=\"data row2 col7\" >0</td>\n",
       "      <td id=\"T_4239d_row2_col8\" class=\"data row2 col8\" >Barnase</td>\n",
       "    </tr>\n",
       "    <tr>\n",
       "      <td id=\"T_4239d_row3_col0\" class=\"data row3 col0\" >3</td>\n",
       "      <td id=\"T_4239d_row3_col1\" class=\"data row3 col1\" >Barstar</td>\n",
       "      <td id=\"T_4239d_row3_col2\" class=\"data row3 col2\" >protein</td>\n",
       "      <td id=\"T_4239d_row3_col3\" class=\"data row3 col3\" >695</td>\n",
       "      <td id=\"T_4239d_row3_col4\" class=\"data row3 col4\" >87</td>\n",
       "      <td id=\"T_4239d_row3_col5\" class=\"data row3 col5\" >2</td>\n",
       "      <td id=\"T_4239d_row3_col6\" class=\"data row3 col6\" >3</td>\n",
       "      <td id=\"T_4239d_row3_col7\" class=\"data row3 col7\" >1</td>\n",
       "      <td id=\"T_4239d_row3_col8\" class=\"data row3 col8\" >Barstar</td>\n",
       "    </tr>\n",
       "    <tr>\n",
       "      <td id=\"T_4239d_row4_col0\" class=\"data row4 col0\" >4</td>\n",
       "      <td id=\"T_4239d_row4_col1\" class=\"data row4 col1\" >Barstar</td>\n",
       "      <td id=\"T_4239d_row4_col2\" class=\"data row4 col2\" >protein</td>\n",
       "      <td id=\"T_4239d_row4_col3\" class=\"data row4 col3\" >665</td>\n",
       "      <td id=\"T_4239d_row4_col4\" class=\"data row4 col4\" >86</td>\n",
       "      <td id=\"T_4239d_row4_col5\" class=\"data row4 col5\" >2</td>\n",
       "      <td id=\"T_4239d_row4_col6\" class=\"data row4 col6\" >4</td>\n",
       "      <td id=\"T_4239d_row4_col7\" class=\"data row4 col7\" >1</td>\n",
       "      <td id=\"T_4239d_row4_col8\" class=\"data row4 col8\" >Barstar</td>\n",
       "    </tr>\n",
       "    <tr>\n",
       "      <td id=\"T_4239d_row5_col0\" class=\"data row5 col0\" >5</td>\n",
       "      <td id=\"T_4239d_row5_col1\" class=\"data row5 col1\" >Barstar</td>\n",
       "      <td id=\"T_4239d_row5_col2\" class=\"data row5 col2\" >protein</td>\n",
       "      <td id=\"T_4239d_row5_col3\" class=\"data row5 col3\" >699</td>\n",
       "      <td id=\"T_4239d_row5_col4\" class=\"data row5 col4\" >89</td>\n",
       "      <td id=\"T_4239d_row5_col5\" class=\"data row5 col5\" >1</td>\n",
       "      <td id=\"T_4239d_row5_col6\" class=\"data row5 col6\" >5</td>\n",
       "      <td id=\"T_4239d_row5_col7\" class=\"data row5 col7\" >1</td>\n",
       "      <td id=\"T_4239d_row5_col8\" class=\"data row5 col8\" >Barstar</td>\n",
       "    </tr>\n",
       "  </tbody>\n",
       "</table>\n"
      ],
      "text/plain": [
       "<pandas.io.formats.style.Styler at 0x7f01e1375950>"
      ]
     },
     "execution_count": 13,
     "metadata": {},
     "output_type": "execute_result"
    }
   ],
   "source": [
    "msm.info(molsys, element='molecule')"
   ]
  },
  {
   "cell_type": "code",
   "execution_count": 15,
   "id": "4324fd1d-ec13-44f2-907b-b6e2d4a512b9",
   "metadata": {},
   "outputs": [
    {
     "data": {
      "text/html": [
       "<style type=\"text/css\">\n",
       "</style>\n",
       "<table id=\"T_22378_\">\n",
       "  <thead>\n",
       "    <tr>\n",
       "      <th class=\"col_heading level0 col0\" >index</th>\n",
       "      <th class=\"col_heading level0 col1\" >id</th>\n",
       "      <th class=\"col_heading level0 col2\" >name</th>\n",
       "      <th class=\"col_heading level0 col3\" >n atoms</th>\n",
       "      <th class=\"col_heading level0 col4\" >n groups</th>\n",
       "      <th class=\"col_heading level0 col5\" >n components</th>\n",
       "      <th class=\"col_heading level0 col6\" >molecule index</th>\n",
       "      <th class=\"col_heading level0 col7\" >molecule type</th>\n",
       "      <th class=\"col_heading level0 col8\" >entity index</th>\n",
       "      <th class=\"col_heading level0 col9\" >entity name</th>\n",
       "    </tr>\n",
       "  </thead>\n",
       "  <tbody>\n",
       "    <tr>\n",
       "      <td id=\"T_22378_row0_col0\" class=\"data row0 col0\" >0</td>\n",
       "      <td id=\"T_22378_row0_col1\" class=\"data row0 col1\" >A</td>\n",
       "      <td id=\"T_22378_row0_col2\" class=\"data row0 col2\" >A</td>\n",
       "      <td id=\"T_22378_row0_col3\" class=\"data row0 col3\" >864</td>\n",
       "      <td id=\"T_22378_row0_col4\" class=\"data row0 col4\" >108</td>\n",
       "      <td id=\"T_22378_row0_col5\" class=\"data row0 col5\" >1</td>\n",
       "      <td id=\"T_22378_row0_col6\" class=\"data row0 col6\" >0</td>\n",
       "      <td id=\"T_22378_row0_col7\" class=\"data row0 col7\" >protein</td>\n",
       "      <td id=\"T_22378_row0_col8\" class=\"data row0 col8\" >0</td>\n",
       "      <td id=\"T_22378_row0_col9\" class=\"data row0 col9\" >Barnase</td>\n",
       "    </tr>\n",
       "    <tr>\n",
       "      <td id=\"T_22378_row1_col0\" class=\"data row1 col0\" >1</td>\n",
       "      <td id=\"T_22378_row1_col1\" class=\"data row1 col1\" >B</td>\n",
       "      <td id=\"T_22378_row1_col2\" class=\"data row1 col2\" >B</td>\n",
       "      <td id=\"T_22378_row1_col3\" class=\"data row1 col3\" >878</td>\n",
       "      <td id=\"T_22378_row1_col4\" class=\"data row1 col4\" >110</td>\n",
       "      <td id=\"T_22378_row1_col5\" class=\"data row1 col5\" >1</td>\n",
       "      <td id=\"T_22378_row1_col6\" class=\"data row1 col6\" >1</td>\n",
       "      <td id=\"T_22378_row1_col7\" class=\"data row1 col7\" >protein</td>\n",
       "      <td id=\"T_22378_row1_col8\" class=\"data row1 col8\" >0</td>\n",
       "      <td id=\"T_22378_row1_col9\" class=\"data row1 col9\" >Barnase</td>\n",
       "    </tr>\n",
       "    <tr>\n",
       "      <td id=\"T_22378_row2_col0\" class=\"data row2 col0\" >2</td>\n",
       "      <td id=\"T_22378_row2_col1\" class=\"data row2 col1\" >C</td>\n",
       "      <td id=\"T_22378_row2_col2\" class=\"data row2 col2\" >C</td>\n",
       "      <td id=\"T_22378_row2_col3\" class=\"data row2 col3\" >839</td>\n",
       "      <td id=\"T_22378_row2_col4\" class=\"data row2 col4\" >108</td>\n",
       "      <td id=\"T_22378_row2_col5\" class=\"data row2 col5\" >1</td>\n",
       "      <td id=\"T_22378_row2_col6\" class=\"data row2 col6\" >2</td>\n",
       "      <td id=\"T_22378_row2_col7\" class=\"data row2 col7\" >protein</td>\n",
       "      <td id=\"T_22378_row2_col8\" class=\"data row2 col8\" >0</td>\n",
       "      <td id=\"T_22378_row2_col9\" class=\"data row2 col9\" >Barnase</td>\n",
       "    </tr>\n",
       "    <tr>\n",
       "      <td id=\"T_22378_row3_col0\" class=\"data row3 col0\" >3</td>\n",
       "      <td id=\"T_22378_row3_col1\" class=\"data row3 col1\" >D</td>\n",
       "      <td id=\"T_22378_row3_col2\" class=\"data row3 col2\" >D</td>\n",
       "      <td id=\"T_22378_row3_col3\" class=\"data row3 col3\" >695</td>\n",
       "      <td id=\"T_22378_row3_col4\" class=\"data row3 col4\" >87</td>\n",
       "      <td id=\"T_22378_row3_col5\" class=\"data row3 col5\" >2</td>\n",
       "      <td id=\"T_22378_row3_col6\" class=\"data row3 col6\" >3</td>\n",
       "      <td id=\"T_22378_row3_col7\" class=\"data row3 col7\" >protein</td>\n",
       "      <td id=\"T_22378_row3_col8\" class=\"data row3 col8\" >1</td>\n",
       "      <td id=\"T_22378_row3_col9\" class=\"data row3 col9\" >Barstar</td>\n",
       "    </tr>\n",
       "    <tr>\n",
       "      <td id=\"T_22378_row4_col0\" class=\"data row4 col0\" >4</td>\n",
       "      <td id=\"T_22378_row4_col1\" class=\"data row4 col1\" >E</td>\n",
       "      <td id=\"T_22378_row4_col2\" class=\"data row4 col2\" >E</td>\n",
       "      <td id=\"T_22378_row4_col3\" class=\"data row4 col3\" >665</td>\n",
       "      <td id=\"T_22378_row4_col4\" class=\"data row4 col4\" >86</td>\n",
       "      <td id=\"T_22378_row4_col5\" class=\"data row4 col5\" >2</td>\n",
       "      <td id=\"T_22378_row4_col6\" class=\"data row4 col6\" >4</td>\n",
       "      <td id=\"T_22378_row4_col7\" class=\"data row4 col7\" >protein</td>\n",
       "      <td id=\"T_22378_row4_col8\" class=\"data row4 col8\" >1</td>\n",
       "      <td id=\"T_22378_row4_col9\" class=\"data row4 col9\" >Barstar</td>\n",
       "    </tr>\n",
       "    <tr>\n",
       "      <td id=\"T_22378_row5_col0\" class=\"data row5 col0\" >5</td>\n",
       "      <td id=\"T_22378_row5_col1\" class=\"data row5 col1\" >F</td>\n",
       "      <td id=\"T_22378_row5_col2\" class=\"data row5 col2\" >F</td>\n",
       "      <td id=\"T_22378_row5_col3\" class=\"data row5 col3\" >699</td>\n",
       "      <td id=\"T_22378_row5_col4\" class=\"data row5 col4\" >89</td>\n",
       "      <td id=\"T_22378_row5_col5\" class=\"data row5 col5\" >1</td>\n",
       "      <td id=\"T_22378_row5_col6\" class=\"data row5 col6\" >5</td>\n",
       "      <td id=\"T_22378_row5_col7\" class=\"data row5 col7\" >protein</td>\n",
       "      <td id=\"T_22378_row5_col8\" class=\"data row5 col8\" >1</td>\n",
       "      <td id=\"T_22378_row5_col9\" class=\"data row5 col9\" >Barstar</td>\n",
       "    </tr>\n",
       "  </tbody>\n",
       "</table>\n"
      ],
      "text/plain": [
       "<pandas.io.formats.style.Styler at 0x7f01b6bf80d0>"
      ]
     },
     "execution_count": 15,
     "metadata": {},
     "output_type": "execute_result"
    }
   ],
   "source": [
    "msm.info(molsys, element='chain')"
   ]
  },
  {
   "cell_type": "code",
   "execution_count": 14,
   "id": "e19a4532-6da6-4e6b-a0f3-f65f39a98098",
   "metadata": {},
   "outputs": [
    {
     "data": {
      "application/vnd.jupyter.widget-view+json": {
       "model_id": "d10fe887c1cc4d4daf54e9e961b97ab1",
       "version_major": 2,
       "version_minor": 0
      },
      "text/plain": [
       "NGLWidget()"
      ]
     },
     "metadata": {},
     "output_type": "display_data"
    }
   ],
   "source": [
    "msm.view(molsys)"
   ]
  },
  {
   "cell_type": "code",
   "execution_count": 18,
   "id": "14ace097-26d0-4ab1-89de-c3fc404ce158",
   "metadata": {},
   "outputs": [],
   "source": [
    "barnase = msm.extract(molsys, selection=\"chain_name=='B'\")\n",
    "barstar_E = msm.extract(molsys, selection=\"chain_name=='E'\")\n",
    "barstar_F = msm.extract(molsys, selection=\"chain_name=='F'\")"
   ]
  },
  {
   "cell_type": "code",
   "execution_count": 19,
   "id": "7f3947a1-1a13-4bf2-b6fd-4285c34cdb50",
   "metadata": {},
   "outputs": [
    {
     "data": {
      "application/vnd.jupyter.widget-view+json": {
       "model_id": "718c5aa766084b8585a67cb49109ad97",
       "version_major": 2,
       "version_minor": 0
      },
      "text/plain": [
       "NGLWidget()"
      ]
     },
     "metadata": {},
     "output_type": "display_data"
    }
   ],
   "source": [
    "msm.view([barnase, barstar_E, barstar_F])"
   ]
  },
  {
   "cell_type": "code",
   "execution_count": 21,
   "id": "ee770402-c3ed-4b24-9e05-588e92529d57",
   "metadata": {},
   "outputs": [],
   "source": [
    "barstar_F_over_E = msm.structure.align(barstar_F, selection='atom_name==\"CA\"',\n",
    "                                       reference_molecular_system=barstar_E, reference_selection='atom_name==\"CA\"')"
   ]
  },
  {
   "cell_type": "code",
   "execution_count": 22,
   "id": "0515678d-02f7-459f-b2ef-48ccdbee3dfb",
   "metadata": {},
   "outputs": [
    {
     "data": {
      "application/vnd.jupyter.widget-view+json": {
       "model_id": "fce63d29832c47bd83f4ab66d7f6c75b",
       "version_major": 2,
       "version_minor": 0
      },
      "text/plain": [
       "NGLWidget()"
      ]
     },
     "metadata": {},
     "output_type": "display_data"
    }
   ],
   "source": [
    "msm.view([barnase, barstar_E, barstar_F_over_E])"
   ]
  },
  {
   "cell_type": "code",
   "execution_count": 23,
   "id": "85711794-7efd-4a7d-be11-dea7dde33ac3",
   "metadata": {},
   "outputs": [],
   "source": [
    "barnase_barstar = msm.merge([barnase, barstar_F_over_E])"
   ]
  },
  {
   "cell_type": "code",
   "execution_count": 24,
   "id": "de1b04ed-d703-412c-8833-afa7122e5e88",
   "metadata": {},
   "outputs": [
    {
     "data": {
      "application/vnd.jupyter.widget-view+json": {
       "model_id": "1ff6f0b32b44459386f762dd19fc5ebb",
       "version_major": 2,
       "version_minor": 0
      },
      "text/plain": [
       "NGLWidget()"
      ]
     },
     "metadata": {},
     "output_type": "display_data"
    }
   ],
   "source": [
    "msm.view(barnase_barstar)"
   ]
  },
  {
   "cell_type": "code",
   "execution_count": 25,
   "id": "a4770948-f1a0-40ca-8de6-1c28324c1f16",
   "metadata": {},
   "outputs": [
    {
     "data": {
      "text/plain": [
       "{131: ['CD', 'CE', 'NZ'],\n",
       " 137: ['CG', 'CD', 'OE1', 'OE2'],\n",
       " 155: ['CG', 'CD', 'OE1', 'OE2'],\n",
       " 173: ['CG', 'CD', 'OE1', 'OE2'],\n",
       " 174: ['CG', 'OD1', 'ND2'],\n",
       " 198: ['O']}"
      ]
     },
     "execution_count": 25,
     "metadata": {},
     "output_type": "execute_result"
    }
   ],
   "source": [
    "msm.build.get_missing_heavy_atoms(barnase_barstar)"
   ]
  },
  {
   "cell_type": "code",
   "execution_count": 27,
   "id": "484e11fd-c25e-43ab-952c-dc797f857099",
   "metadata": {},
   "outputs": [],
   "source": [
    "barnase_barstar = msm.build.add_missing_heavy_atoms(barnase_barstar)"
   ]
  },
  {
   "cell_type": "code",
   "execution_count": 31,
   "id": "e41429ae-57b2-494f-a94e-3c94231246c3",
   "metadata": {},
   "outputs": [
    {
     "data": {
      "text/plain": [
       "False"
      ]
     },
     "execution_count": 31,
     "metadata": {},
     "output_type": "execute_result"
    }
   ],
   "source": [
    "msm.contains(barnase_barstar, hydrogens=True)"
   ]
  },
  {
   "cell_type": "code",
   "execution_count": 32,
   "id": "adf4ca1b-fa08-4e11-88e5-7b5ea792c262",
   "metadata": {},
   "outputs": [
    {
     "data": {
      "text/plain": [
       "0"
      ]
     },
     "execution_count": 32,
     "metadata": {},
     "output_type": "execute_result"
    }
   ],
   "source": [
    "msm.get(barnase_barstar, element='atom', selection='atom_type==\"H\"', n_atoms=True)"
   ]
  },
  {
   "cell_type": "code",
   "execution_count": 33,
   "id": "1cc5cded-99c8-494d-a55e-1b0bab46b106",
   "metadata": {},
   "outputs": [],
   "source": [
    "barnase_barstar = msm.build.add_missing_hydrogens(barnase_barstar, pH=7.4)"
   ]
  },
  {
   "cell_type": "code",
   "execution_count": 34,
   "id": "e90b296a-a3f3-4827-a145-971edf0d99f6",
   "metadata": {},
   "outputs": [
    {
     "data": {
      "text/plain": [
       "1563"
      ]
     },
     "execution_count": 34,
     "metadata": {},
     "output_type": "execute_result"
    }
   ],
   "source": [
    "msm.get(barnase_barstar, element='atom', selection='atom_type==\"H\"', n_atoms=True)"
   ]
  },
  {
   "cell_type": "code",
   "execution_count": 36,
   "id": "d31ce4df-c8b3-45d0-a546-1fcd2577dbbe",
   "metadata": {},
   "outputs": [
    {
     "data": {
      "text/plain": [
       "'my_barnase_barstar.pdb'"
      ]
     },
     "execution_count": 36,
     "metadata": {},
     "output_type": "execute_result"
    }
   ],
   "source": [
    "msm.convert(barnase_barstar, to_form='my_barnase_barstar.pdb')"
   ]
  },
  {
   "cell_type": "code",
   "execution_count": null,
   "id": "a4a6c5c3-ca7e-4896-b31d-59c5044d6548",
   "metadata": {},
   "outputs": [],
   "source": []
  }
 ],
 "metadata": {
  "kernelspec": {
   "display_name": "Python 3 (ipykernel)",
   "language": "python",
   "name": "python3"
  },
  "language_info": {
   "codemirror_mode": {
    "name": "ipython",
    "version": 3
   },
   "file_extension": ".py",
   "mimetype": "text/x-python",
   "name": "python",
   "nbconvert_exporter": "python",
   "pygments_lexer": "ipython3",
   "version": "3.7.12"
  }
 },
 "nbformat": 4,
 "nbformat_minor": 5
}
