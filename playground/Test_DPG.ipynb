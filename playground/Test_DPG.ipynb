{
 "cells": [
  {
   "cell_type": "code",
   "execution_count": 1,
   "id": "c861e159-c039-46a7-87d8-87d886e44188",
   "metadata": {},
   "outputs": [],
   "source": [
    "%load_ext autoreload\n",
    "%autoreload 2"
   ]
  },
  {
   "cell_type": "code",
   "execution_count": 2,
   "id": "6a2f85f7-e903-444e-b648-ad7756f922d4",
   "metadata": {},
   "outputs": [
    {
     "data": {
      "application/vnd.jupyter.widget-view+json": {
       "model_id": "46a59e343e584883abec8e843f5a6288",
       "version_major": 2,
       "version_minor": 0
      },
      "text/plain": []
     },
     "metadata": {},
     "output_type": "display_data"
    }
   ],
   "source": [
    "import bifree as bf"
   ]
  },
  {
   "cell_type": "code",
   "execution_count": null,
   "id": "c949cbd9-ba5f-483a-b40d-1b178960e6f9",
   "metadata": {},
   "outputs": [],
   "source": [
    "molsys = bf.demo['barnase_barstar']['pdb']"
   ]
  },
  {
   "cell_type": "code",
   "execution_count": null,
   "id": "07968c4b-850c-49d7-8bd7-287a3b330142",
   "metadata": {},
   "outputs": [],
   "source": []
  }
 ],
 "metadata": {
  "kernelspec": {
   "display_name": "Python 3 (ipykernel)",
   "language": "python",
   "name": "python3"
  },
  "language_info": {
   "codemirror_mode": {
    "name": "ipython",
    "version": 3
   },
   "file_extension": ".py",
   "mimetype": "text/x-python",
   "name": "python",
   "nbconvert_exporter": "python",
   "pygments_lexer": "ipython3",
   "version": "3.7.12"
  }
 },
 "nbformat": 4,
 "nbformat_minor": 5
}
