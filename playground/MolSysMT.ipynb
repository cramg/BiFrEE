{
 "cells": [
  {
   "cell_type": "markdown",
   "id": "3c1e515a-187c-4ab8-a853-9040a76840d9",
   "metadata": {},
   "source": [
    "# MolSysMT Introduction\n",
    "\n",
    "## Installation\n",
    "\n",
    "To install MolSysMT, since there is no \"stable\" version yet, you have to clone the main repository:\n",
    "\n",
    "```\n",
    "git clone git@github.com:uibcdf/MolSysMT.git\n",
    "```\n",
    "\n",
    "There are some dependencies you have to solve manually (I have to make a file):\n",
    "numpy, networkx, parmed, mdtraj, nglview, json, os, urllib, pyunitwizard...\n",
    "\n",
    "Now, with your conda environment activated, install molsysmt as a developing module:\n",
    "\n",
    "```\n",
    "python setup.py develop\n",
    "```\n",
    "\n",
    "You can now open python, ipython or jupyter to check if molsysmt is imported with out complains:\n",
    "\n",
    "```\n",
    "import molsysmt as msm\n",
    "```\n",
    "\n",
    "Now, if this happens without errors or warnings, run the NGLView patch to make this library compatible with MolSysMT (This has to be done just the first time):\n",
    "\n",
    "```\n",
    "from molsysmt.tools import nglview\n",
    "nglview.adding_molsysmt()\n",
    "```"
   ]
  },
  {
   "cell_type": "markdown",
   "id": "6e6c84c9-102e-41bc-b543-484c6521100b",
   "metadata": {},
   "source": [
    "## Tasks to do\n",
    "\n",
    "In order to solve these tasks, make a copy of this notebook and work over the copy. Name your notebook as you wish, and push it to the main branch of the repository with the cells to do the following: \n",
    "\n",
    "- Load the pdb file '1NCR' -from the Protein Data Bank or locally- as a molsysmt.MolSys object.\n",
    "- Get the form of the new object.\n",
    "- Print out the information summary of the new object.\n",
    "- Check if the system has hydrogen atoms. Why there is no hydrogen atoms?\n",
    "- Remove atoms from water molecules and ions\n",
    "- Print out the information summary about the molecules of the new object.\n",
    "- Protonate (add hydrogens) at pH=7.4 to the molecular system.\n",
    "- Get the number of hydrogen atoms added to the system.\n",
    "- Get the sequence of aminoacids (3 letters code) of the molecule with index 0.\n",
    "- How many atoms with name \"CA\" has the molecular system?\n",
    "- Get the list of indices of the groups named \"VAL\".\n",
    "- Get the coordinates of the atoms with name \"CA\" from those groups named \"VAL\". \n",
    "- Show the view of the entity named \"W11\".\n",
    "- Show the view of the whole system (water and ions were removed).\n",
    "- Get the minimum distance between any atom of the small molecule named \"W11\" and any atom of the molecule with index 0. The same with the molecules indexed 1, and 2.\n",
    "- Get the distance matrix between the atoms of type \"C\" from the small molecule named \"W11\" and any atom named \"CA\" of molecule with index 0.\n",
    "- Get all phi and psi dihedral angles of the molecule type peptide.\n",
    "- Get all covalent chains with the sequence of atoms with name \"C1B\"-\"C2B\"-\"C3B\"-\"C4B\"-\"C5B\"-\"C6B\"-\"C1B\"\n",
    "- Get all covalent chains with 7 atoms type \"C\". How many chains you got? Can this be a bug? If you think so, open and issue reporting this possible bug. Could the method `covalent_chains` be used to detect rings? Should we define a method to get covalent rings?"
   ]
  },
  {
   "cell_type": "code",
   "execution_count": null,
   "id": "8765fbca-45a7-4844-918c-ecff47f72ad7",
   "metadata": {},
   "outputs": [],
   "source": []
  }
 ],
 "metadata": {
  "kernelspec": {
   "display_name": "Python 3",
   "language": "python",
   "name": "python3"
  },
  "language_info": {
   "codemirror_mode": {
    "name": "ipython",
    "version": 3
   },
   "file_extension": ".py",
   "mimetype": "text/x-python",
   "name": "python",
   "nbconvert_exporter": "python",
   "pygments_lexer": "ipython3",
   "version": "3.7.10"
  }
 },
 "nbformat": 4,
 "nbformat_minor": 5
}
